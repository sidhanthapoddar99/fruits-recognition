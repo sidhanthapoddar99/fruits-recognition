{
 "cells": [
  {
   "cell_type": "code",
   "execution_count": 1,
   "metadata": {
    "collapsed": true
   },
   "outputs": [],
   "source": [
    "from sklearn.cluster import KMeans\n",
    "from collections import Counter\n",
    "from matplotlib import pyplot as plt\n",
    "import cv2\n",
    "from sklearn.cluster import KMeans\n",
    "from collections import Counter\n",
    "from matplotlib import pyplot as plt\n",
    "import cv2\n",
    "%matplotlib inline"
   ]
  },
  {
   "cell_type": "markdown",
   "metadata": {},
   "source": [
    "Most dominant color finder\n",
    "--\n",
    "this function is used to find the most dominant color or the blend of most dominant color out for the image\n",
    "\n",
    "- this program uses kmean clustering to find the most dominat color of all\n",
    "- the default cluster are taken to be 6 ie predicts the blend of 6 most dominat colors but for our program we take 2 so we get white and the most dominant fruit color\n",
    "- the color found form this functionis used to fill the fruit image "
   ]
  },
  {
   "cell_type": "code",
   "execution_count": 2,
   "metadata": {},
   "outputs": [],
   "source": [
    "#send the most dominat color except white\n",
    "def findmin(arr):\n",
    "    arr1=[0,0]\n",
    "    for i in range (0,2):\n",
    "        a0=arr[i][0]\n",
    "        a1=arr[i][1]\n",
    "        a2=arr[i][2]\n",
    "        arr1[i]=abs(a0-a1)+abs(a0-a2)+abs(a1-a2)\n",
    "    if(arr1[0]<arr1[1]):\n",
    "        return arr[1]\n",
    "    else:\n",
    "        return arr[0]\n",
    "        \n",
    "#conver rbg to hexa decimal        \n",
    "def rgb2hex(rgb):\n",
    "    hex = \"#{:02x}{:02x}{:02x}\".format(int(rgb[0]), int(rgb[1]), int(rgb[2]))\n",
    "    return hex\n",
    "#print(rgb2hex([255, 0, 0]))     \n",
    "\n",
    "def plot_image_info(path, k=6 ,show=False):\n",
    "    # load image\n",
    "    img_bgr = cv2.imread(path)\n",
    "    img_rgb = cv2.cvtColor(img_bgr, cv2.COLOR_BGR2RGB)\n",
    "\n",
    "    # resize image to speed up processing time\n",
    "    resized_img_rgb = cv2.resize(img_rgb, (64, 64), interpolation=cv2.INTER_AREA)\n",
    "\n",
    "    # reshape the image to be a list of pixels\n",
    "    img_list = resized_img_rgb.reshape((resized_img_rgb.shape[0] * resized_img_rgb.shape[1], 3))\n",
    "\n",
    "    # cluster the pixels and assign labels\n",
    "    clt = KMeans(n_clusters=k)\n",
    "    labels = clt.fit_predict(img_list)\n",
    "        \n",
    "    # count labels to find most popular\n",
    "    label_counts = Counter(labels)\n",
    "    total_count = sum(label_counts.values())\n",
    "\n",
    "    # subset out most popular centroid\n",
    "    center_colors = list(clt.cluster_centers_)\n",
    "    ordered_colors = [center_colors[i]/255 for i in label_counts.keys()]\n",
    "    color_labels = [rgb2hex(ordered_colors[i]*255) for i in label_counts.keys()]\n",
    "    arr=[ordered_colors[i]*255 for i in label_counts.keys()]\n",
    "    #print(label_counts.values())\n",
    "    #print(color_labels)\n",
    "    if(show):\n",
    "        # plots\n",
    "        plt.figure(figsize=(14, 8))\n",
    "        plt.subplot(221)\n",
    "        plt.imshow(img_rgb)\n",
    "        plt.axis('off')\n",
    "\n",
    "        plt.subplot(222)\n",
    "        #print(\"lables_count \",label_counts.values(),\"\\n color_labels\",color_labels,\"\\nordered_color\",ordered_colors)\n",
    "        plt.pie(list(label_counts.values()), labels=color_labels, colors=ordered_colors)\n",
    "        plt.axis('equal')\n",
    "        plt.show()\n",
    "    return arr\n",
    "#return the most dominat color in the picture    \n",
    "def getcolor(path):\n",
    "    arr=plot_image_info(path,2)\n",
    "    return(findmin(arr))"
   ]
  },
  {
   "cell_type": "code",
   "execution_count": 3,
   "metadata": {},
   "outputs": [],
   "source": [
    "from skimage import io\n",
    "from skimage import feature\n",
    "from skimage.color import rgb2gray\n",
    "import os\n",
    "from glob import glob\n",
    "import numpy as np"
   ]
  },
  {
   "cell_type": "markdown",
   "metadata": {},
   "source": [
    "ENCLOSED AREA FINDER\n",
    "--\n",
    "this whole function is to join the edges of the image so that it can the find the inside pixels to replace with dominat color\n",
    "here this function\n",
    "\n",
    "- `takes the image then converts it into rgb then to grayscale` \n",
    "- `then finds its border edges`\n",
    "- `thickens edges which are nessary and simultaneously removes any noise/unnessary edges present`\n",
    "- `then joins the edges and create a closed encolsure` \n",
    "- `removes extra pixelated values outside the outer edge`\n",
    "- `sends the processed enclose area to which dominant color can be added`"
   ]
  },
  {
   "cell_type": "code",
   "execution_count": 4,
   "metadata": {},
   "outputs": [],
   "source": [
    "#function get FILL AREA\n",
    "\n",
    "\"\"\"\n",
    "this function point c takes input:\n",
    "\n",
    "img - the image\n",
    "x,y - the coordinate of the pixel calculate\n",
    "m,n - the dimension of the fit matrix\n",
    "t   - the threashold after which the pixel would be illuminated or removed\n",
    "\n",
    "this function fits the matrix m,n to the neighbouring cell of the point x,y with padding considered #incases of edged border\n",
    "then this function finds the no of pixelated value in the matrix m,n if the sum is above threashold the it return treu else\n",
    "it return false\n",
    "\n",
    "\"\"\"\n",
    "def pointc(img,x,y,m=3,n=3,t=3):\n",
    "    k=0\n",
    "    #l=-1*int(z/2)\n",
    "    #m=int(z/2)+1\n",
    "    for i in range(-1*int(m/2),int(m/2)+1):\n",
    "         for j in range(-1*int(n/2),int(n/2)+1):\n",
    "                if((x+i)<100 and (y+j)<100 and (x+i)>0 and (y+j)>0):\n",
    "                    if(img[x+i][y+j]):\n",
    "                        k=k+1\n",
    "    if(k>t):\n",
    "        return True\n",
    "    else:\n",
    "        return False\n",
    "\n",
    "    \n",
    "    \n",
    "    \n",
    "\"\"\"\n",
    "this function is used to find the last or the first pixilated value in the whole image \n",
    "vertically for a column \n",
    "hrizontally for a row\n",
    "\n",
    "img - image\n",
    "x   - row no / column no\n",
    "d   - \"h\" checking hrizontally / \"v\" checking vertically\n",
    "t   - \"l\" last pixel / \"f\" first pixel\n",
    "\n",
    "\"\"\"    \n",
    "#finding last pixeleted value\n",
    "def lastt(img,x,d='h',t='l'):\n",
    "    y=0\n",
    "    if(d=='h' and t=='l'):\n",
    "        for i in range(0,100):\n",
    "            if(img[x][i]):\n",
    "                y=i\n",
    "    elif(d=='h' and t=='f'):\n",
    "        for i in range(0,100):\n",
    "            if(img[x][i]):\n",
    "                y=i\n",
    "                break\n",
    "    elif(d=='v' and t=='l'):\n",
    "        for i in range(0,100):\n",
    "            if(img[i][x]):\n",
    "                y=i\n",
    "    elif(d=='v' and t=='f'):\n",
    "        for i in range(0,100):\n",
    "            if(img[i][x]):\n",
    "                y=i\n",
    "                break            \n",
    "    return y    \n",
    "\n",
    "'''\n",
    "this function is for pre processing of data before it is sent for traning\n",
    "this function takes the image the filter size the threashold and removal situation\n",
    "the center of the filter is the pixel whoes value is to be checked \n",
    "if the sum of all the pixels that lie within the filter is greater than or equal to the threashold then\n",
    "the value of the pixel is made positive is the rem is true and the sum is less than the threashold then the value of rem is\n",
    "made to be void/false/0 in  all other cases the values remain same \n",
    "'''\n",
    "def prepro(img,m=3,n=3,t=3,rem=True):\n",
    "    img1=np.array([[img[x][y] for y in range(100)] for x in range(100)])   \n",
    "    for i in range(0,100):\n",
    "        for j in range(0,100):\n",
    "            if(pointc(img,i,j,m,n,t)):\n",
    "                img1[i][j]=True\n",
    "            elif(rem):\n",
    "                img1[i][j]=False\n",
    "       #if(i%5==0):\n",
    "            #io.imshow(img1)\n",
    "            #ttt=input()\n",
    "    return img1   \n",
    "\n",
    "#fill I function to fill the remaning space so that we can get the pixel to fill color\n",
    "def fill(img):\n",
    "    img1=np.array([[img[x][y] for y in range(100)] for x in range(100)])   \n",
    "    flag=False\n",
    "    for i in range(0,100):\n",
    "        flag=False\n",
    "        ll=lastt(img,i)\n",
    "        for j in range(0,98):\n",
    "            if(img[i][j]==True):\n",
    "                if(pointc(img,i,j) or True):\n",
    "                    if((img[i][j+1]==False)): #and (img[i][j+2]==False)):\n",
    "                        flag= not flag\n",
    "                    else:\n",
    "                        img[i][j]=False\n",
    "            else:\n",
    "                if(flag):\n",
    "                    if(not img[i][j] and j<ll):\n",
    "                        img1[i][j]=True\n",
    "            \n",
    "    return img1         \n",
    "\n",
    "'''\n",
    "fill II function to fill the remaning space so that we can get the pixel to fill color\n",
    "this function takes the image after all the neighbouring cells are connected\n",
    "this fill function gets the void area to which the dominat color has to be filled \n",
    "'''\n",
    "def fill2(img1):\n",
    "    arr=[]\n",
    "    img=np.array([[img1[x][y] for y in range(100)] for x in range(100)]) \n",
    "    #horizontal fill f\n",
    "    for i in range(0,100):\n",
    "        for j in range(0,lastt(img1,i,'h','f')):\n",
    "            img[i][j]=True\n",
    "    #horizontal fill l\n",
    "    for i in range(0,100):\n",
    "        for j in range(lastt(img1,i,'h','l'),100):\n",
    "            img[i][j]=True\n",
    "    #vertical fill l\n",
    "    for i in range(0,100):\n",
    "        for j in range(lastt(img1,i,'v','l'),100):\n",
    "            img[j][i]=True        \n",
    "    #vertical fill f\n",
    "    for i in range(0,100):\n",
    "        arr+=[lastt(img1,i,'h','f')]\n",
    "        for j in range(0,lastt(img1,i,'v','f')):\n",
    "            img[j][i]=True      \n",
    "    return img   \n",
    "\n",
    "\n",
    "def getfill(path):\n",
    "    image = io.imread(path)\n",
    "    gray = rgb2gray(image)\n",
    "    edges1 = feature.canny(gray, 0.2, 0.75, 0.4)\n",
    "    edges1=prepro(edges1,4,4,2)\n",
    "    edges1=prepro(edges1,1,10,3,False)\n",
    "    edges1=prepro(edges1,1,10,3,False)\n",
    "    return(fill2(edges1))"
   ]
  },
  {
   "cell_type": "code",
   "execution_count": 5,
   "metadata": {},
   "outputs": [],
   "source": [
    "from skimage import io\n",
    "from skimage import feature\n",
    "from skimage.color import rgb2gray\n",
    "import os\n",
    "from glob import glob"
   ]
  },
  {
   "cell_type": "code",
   "execution_count": 6,
   "metadata": {},
   "outputs": [],
   "source": [
    "def convert(img):\n",
    "    img=rgb2gray(img)\n",
    "    img = feature.canny(img, 0.1, 0.2, 0.25)\n",
    "    return img\n",
    "\n",
    "def change(img):\n",
    "    a=[]\n",
    "    for i in img:\n",
    "        s=[]\n",
    "        for j in i:\n",
    "            if j:\n",
    "                s=s+[[255,255,255]]\n",
    "            else:\n",
    "                s=s+[[0,0,0]]\n",
    "        a=a+[s]    \n",
    "    return a\n",
    "\n",
    "\n",
    "\n"
   ]
  },
  {
   "cell_type": "markdown",
   "metadata": {},
   "source": [
    "This is the final function from which all the sub functions are called \n",
    "--\n",
    "this function loads all images form the respective dir and the store the pre-processed image the processed dir\n",
    "- this function first imports the image\n",
    "- then finds the canny edge \n",
    "- then converts the image form binary form to rgb format\n",
    "- then finds the fill area \n",
    "- then finds the most dominat color for the image \n",
    "- after finding the most dominat color\n",
    "- it merges/overlays all the image following the priority\n",
    "- toplayer the canny edge\n",
    "- second layer the fill area with the most dominant color\n",
    "- the bottom layer being the orignl image "
   ]
  },
  {
   "cell_type": "code",
   "execution_count": 7,
   "metadata": {},
   "outputs": [],
   "source": [
    "def edge_grave(x1,x2,x4,col):\n",
    "    x3 = [[ x1[y][x] for x in range(len(x1[0]))] for y in range(len(x1))] \n",
    "    for i in range(0,len(x1)):\n",
    "        for j in range(0,len(x1[0])):\n",
    "            if(x2[i][j][0]==255 and x2[i][j][1]==255 and x2[i][j][2]==255):\n",
    "                x3[i][j]=[0,0,0]\n",
    "            elif(not x4[i][j]):\n",
    "                x3[i][j][0]=round(col[0])\n",
    "                x3[i][j][1]=round(col[1])\n",
    "                x3[i][j][2]=round(col[2])\n",
    "            else:\n",
    "                x3[i][j]=x1[i][j]\n",
    "                \n",
    "    return x3   \n",
    "\n",
    "def load_images(base_path):\n",
    "    images = []\n",
    "    path = os.path.join(base_path, '*.jpg')\n",
    "    for image_path in glob(path):\n",
    "        #image1 = preprocessing.image.load_img(image_path,target_size=(width, height))\n",
    "        #x1 = preprocessing.image.img_to_array(image1)\n",
    "        #image2 = preprocessing.image.load_img(image_path.replace(name,name+'_edge'),target_size=(width, height))\n",
    "        #x2 = preprocessing.image.img_to_array(image2)\n",
    "        #images.append([x1,x2])\n",
    "        x1=io.imread(image_path)\n",
    "        x2=convert(x1)\n",
    "        x2=change(x2)\n",
    "        x3=getfill(image_path)\n",
    "        col=getcolor(image_path)\n",
    "        #col=[ round(col[i]) for i in range(3) ]\n",
    "        x5=edge_grave(x1,x2,x3,col)\n",
    "        path1=image_path.replace('data','processed_data')\n",
    "        io.imsave(path1,np.array(x5))\n",
    "\n"
   ]
  },
  {
   "cell_type": "code",
   "execution_count": 8,
   "metadata": {},
   "outputs": [],
   "source": [
    "def dircreate(path):\n",
    "    try:  \n",
    "        os.makedirs(path)\n",
    "    except OSError:  \n",
    "        print (\"Creation of the directory %s failed\" % path)\n",
    "    else:  \n",
    "        print (\"Successfully created the directory %s\" % path)"
   ]
  },
  {
   "cell_type": "code",
   "execution_count": 9,
   "metadata": {},
   "outputs": [],
   "source": [
    "def call(fruits):\n",
    "    for i in fruits:\n",
    "        base_path='./data/'+i\n",
    "        dircreate('./processed_data/'+i)\n",
    "        load_images(base_path)"
   ]
  },
  {
   "cell_type": "code",
   "execution_count": 20,
   "metadata": {},
   "outputs": [
    {
     "name": "stdout",
     "output_type": "stream",
     "text": [
      "Successfully created the directory ./processed_data/test\n"
     ]
    },
    {
     "name": "stderr",
     "output_type": "stream",
     "text": [
      "C:\\Users\\Sid\\AppData\\Local\\conda\\conda\\envs\\image\\lib\\site-packages\\skimage\\io\\_io.py:140: UserWarning: ./processed_data/test\\125_100.jpg is a low contrast image\n",
      "  warn('%s is a low contrast image' % fname)\n",
      "C:\\Users\\Sid\\AppData\\Local\\conda\\conda\\envs\\image\\lib\\site-packages\\skimage\\util\\dtype.py:137: UserWarning: Possible sign loss when converting negative image of type int32 to positive image of type uint8.\n",
      "  .format(dtypeobj_in, dtypeobj_out))\n",
      "C:\\Users\\Sid\\AppData\\Local\\conda\\conda\\envs\\image\\lib\\site-packages\\skimage\\util\\dtype.py:190: UserWarning: Downcasting int32 to uint8 without scaling because max value 255 fits in uint8\n",
      "  \"value {} fits in {}\".format(a.dtype, dtype, a.max(), dtype))\n",
      "C:\\Users\\Sid\\AppData\\Local\\conda\\conda\\envs\\image\\lib\\site-packages\\skimage\\io\\_io.py:140: UserWarning: ./processed_data/test\\130_100.jpg is a low contrast image\n",
      "  warn('%s is a low contrast image' % fname)\n",
      "C:\\Users\\Sid\\AppData\\Local\\conda\\conda\\envs\\image\\lib\\site-packages\\skimage\\util\\dtype.py:137: UserWarning: Possible sign loss when converting negative image of type int32 to positive image of type uint8.\n",
      "  .format(dtypeobj_in, dtypeobj_out))\n",
      "C:\\Users\\Sid\\AppData\\Local\\conda\\conda\\envs\\image\\lib\\site-packages\\skimage\\util\\dtype.py:190: UserWarning: Downcasting int32 to uint8 without scaling because max value 255 fits in uint8\n",
      "  \"value {} fits in {}\".format(a.dtype, dtype, a.max(), dtype))\n",
      "C:\\Users\\Sid\\AppData\\Local\\conda\\conda\\envs\\image\\lib\\site-packages\\skimage\\io\\_io.py:140: UserWarning: ./processed_data/test\\131_100.jpg is a low contrast image\n",
      "  warn('%s is a low contrast image' % fname)\n",
      "C:\\Users\\Sid\\AppData\\Local\\conda\\conda\\envs\\image\\lib\\site-packages\\skimage\\util\\dtype.py:137: UserWarning: Possible sign loss when converting negative image of type int32 to positive image of type uint8.\n",
      "  .format(dtypeobj_in, dtypeobj_out))\n",
      "C:\\Users\\Sid\\AppData\\Local\\conda\\conda\\envs\\image\\lib\\site-packages\\skimage\\util\\dtype.py:190: UserWarning: Downcasting int32 to uint8 without scaling because max value 255 fits in uint8\n",
      "  \"value {} fits in {}\".format(a.dtype, dtype, a.max(), dtype))\n",
      "C:\\Users\\Sid\\AppData\\Local\\conda\\conda\\envs\\image\\lib\\site-packages\\skimage\\io\\_io.py:140: UserWarning: ./processed_data/test\\137_100.jpg is a low contrast image\n",
      "  warn('%s is a low contrast image' % fname)\n",
      "C:\\Users\\Sid\\AppData\\Local\\conda\\conda\\envs\\image\\lib\\site-packages\\skimage\\util\\dtype.py:137: UserWarning: Possible sign loss when converting negative image of type int32 to positive image of type uint8.\n",
      "  .format(dtypeobj_in, dtypeobj_out))\n",
      "C:\\Users\\Sid\\AppData\\Local\\conda\\conda\\envs\\image\\lib\\site-packages\\skimage\\util\\dtype.py:190: UserWarning: Downcasting int32 to uint8 without scaling because max value 255 fits in uint8\n",
      "  \"value {} fits in {}\".format(a.dtype, dtype, a.max(), dtype))\n",
      "C:\\Users\\Sid\\AppData\\Local\\conda\\conda\\envs\\image\\lib\\site-packages\\skimage\\io\\_io.py:140: UserWarning: ./processed_data/test\\139_100.jpg is a low contrast image\n",
      "  warn('%s is a low contrast image' % fname)\n",
      "C:\\Users\\Sid\\AppData\\Local\\conda\\conda\\envs\\image\\lib\\site-packages\\skimage\\util\\dtype.py:137: UserWarning: Possible sign loss when converting negative image of type int32 to positive image of type uint8.\n",
      "  .format(dtypeobj_in, dtypeobj_out))\n",
      "C:\\Users\\Sid\\AppData\\Local\\conda\\conda\\envs\\image\\lib\\site-packages\\skimage\\util\\dtype.py:190: UserWarning: Downcasting int32 to uint8 without scaling because max value 255 fits in uint8\n",
      "  \"value {} fits in {}\".format(a.dtype, dtype, a.max(), dtype))\n",
      "C:\\Users\\Sid\\AppData\\Local\\conda\\conda\\envs\\image\\lib\\site-packages\\skimage\\io\\_io.py:140: UserWarning: ./processed_data/test\\143_100.jpg is a low contrast image\n",
      "  warn('%s is a low contrast image' % fname)\n",
      "C:\\Users\\Sid\\AppData\\Local\\conda\\conda\\envs\\image\\lib\\site-packages\\skimage\\util\\dtype.py:137: UserWarning: Possible sign loss when converting negative image of type int32 to positive image of type uint8.\n",
      "  .format(dtypeobj_in, dtypeobj_out))\n",
      "C:\\Users\\Sid\\AppData\\Local\\conda\\conda\\envs\\image\\lib\\site-packages\\skimage\\util\\dtype.py:190: UserWarning: Downcasting int32 to uint8 without scaling because max value 255 fits in uint8\n",
      "  \"value {} fits in {}\".format(a.dtype, dtype, a.max(), dtype))\n",
      "C:\\Users\\Sid\\AppData\\Local\\conda\\conda\\envs\\image\\lib\\site-packages\\skimage\\io\\_io.py:140: UserWarning: ./processed_data/test\\144_100.jpg is a low contrast image\n",
      "  warn('%s is a low contrast image' % fname)\n",
      "C:\\Users\\Sid\\AppData\\Local\\conda\\conda\\envs\\image\\lib\\site-packages\\skimage\\util\\dtype.py:137: UserWarning: Possible sign loss when converting negative image of type int32 to positive image of type uint8.\n",
      "  .format(dtypeobj_in, dtypeobj_out))\n",
      "C:\\Users\\Sid\\AppData\\Local\\conda\\conda\\envs\\image\\lib\\site-packages\\skimage\\util\\dtype.py:190: UserWarning: Downcasting int32 to uint8 without scaling because max value 255 fits in uint8\n",
      "  \"value {} fits in {}\".format(a.dtype, dtype, a.max(), dtype))\n",
      "C:\\Users\\Sid\\AppData\\Local\\conda\\conda\\envs\\image\\lib\\site-packages\\skimage\\io\\_io.py:140: UserWarning: ./processed_data/test\\145_100.jpg is a low contrast image\n",
      "  warn('%s is a low contrast image' % fname)\n",
      "C:\\Users\\Sid\\AppData\\Local\\conda\\conda\\envs\\image\\lib\\site-packages\\skimage\\util\\dtype.py:137: UserWarning: Possible sign loss when converting negative image of type int32 to positive image of type uint8.\n",
      "  .format(dtypeobj_in, dtypeobj_out))\n",
      "C:\\Users\\Sid\\AppData\\Local\\conda\\conda\\envs\\image\\lib\\site-packages\\skimage\\util\\dtype.py:190: UserWarning: Downcasting int32 to uint8 without scaling because max value 255 fits in uint8\n",
      "  \"value {} fits in {}\".format(a.dtype, dtype, a.max(), dtype))\n",
      "C:\\Users\\Sid\\AppData\\Local\\conda\\conda\\envs\\image\\lib\\site-packages\\skimage\\io\\_io.py:140: UserWarning: ./processed_data/test\\297_100.jpg is a low contrast image\n",
      "  warn('%s is a low contrast image' % fname)\n",
      "C:\\Users\\Sid\\AppData\\Local\\conda\\conda\\envs\\image\\lib\\site-packages\\skimage\\util\\dtype.py:137: UserWarning: Possible sign loss when converting negative image of type int32 to positive image of type uint8.\n",
      "  .format(dtypeobj_in, dtypeobj_out))\n",
      "C:\\Users\\Sid\\AppData\\Local\\conda\\conda\\envs\\image\\lib\\site-packages\\skimage\\util\\dtype.py:190: UserWarning: Downcasting int32 to uint8 without scaling because max value 255 fits in uint8\n",
      "  \"value {} fits in {}\".format(a.dtype, dtype, a.max(), dtype))\n",
      "C:\\Users\\Sid\\AppData\\Local\\conda\\conda\\envs\\image\\lib\\site-packages\\skimage\\io\\_io.py:140: UserWarning: ./processed_data/test\\36_100.jpg is a low contrast image\n",
      "  warn('%s is a low contrast image' % fname)\n",
      "C:\\Users\\Sid\\AppData\\Local\\conda\\conda\\envs\\image\\lib\\site-packages\\skimage\\util\\dtype.py:137: UserWarning: Possible sign loss when converting negative image of type int32 to positive image of type uint8.\n",
      "  .format(dtypeobj_in, dtypeobj_out))\n",
      "C:\\Users\\Sid\\AppData\\Local\\conda\\conda\\envs\\image\\lib\\site-packages\\skimage\\util\\dtype.py:190: UserWarning: Downcasting int32 to uint8 without scaling because max value 255 fits in uint8\n",
      "  \"value {} fits in {}\".format(a.dtype, dtype, a.max(), dtype))\n",
      "C:\\Users\\Sid\\AppData\\Local\\conda\\conda\\envs\\image\\lib\\site-packages\\skimage\\io\\_io.py:140: UserWarning: ./processed_data/test\\42_100.jpg is a low contrast image\n",
      "  warn('%s is a low contrast image' % fname)\n",
      "C:\\Users\\Sid\\AppData\\Local\\conda\\conda\\envs\\image\\lib\\site-packages\\skimage\\util\\dtype.py:137: UserWarning: Possible sign loss when converting negative image of type int32 to positive image of type uint8.\n",
      "  .format(dtypeobj_in, dtypeobj_out))\n",
      "C:\\Users\\Sid\\AppData\\Local\\conda\\conda\\envs\\image\\lib\\site-packages\\skimage\\util\\dtype.py:190: UserWarning: Downcasting int32 to uint8 without scaling because max value 255 fits in uint8\n",
      "  \"value {} fits in {}\".format(a.dtype, dtype, a.max(), dtype))\n",
      "C:\\Users\\Sid\\AppData\\Local\\conda\\conda\\envs\\image\\lib\\site-packages\\skimage\\io\\_io.py:140: UserWarning: ./processed_data/test\\48_100.jpg is a low contrast image\n",
      "  warn('%s is a low contrast image' % fname)\n",
      "C:\\Users\\Sid\\AppData\\Local\\conda\\conda\\envs\\image\\lib\\site-packages\\skimage\\util\\dtype.py:137: UserWarning: Possible sign loss when converting negative image of type int32 to positive image of type uint8.\n",
      "  .format(dtypeobj_in, dtypeobj_out))\n",
      "C:\\Users\\Sid\\AppData\\Local\\conda\\conda\\envs\\image\\lib\\site-packages\\skimage\\util\\dtype.py:190: UserWarning: Downcasting int32 to uint8 without scaling because max value 255 fits in uint8\n",
      "  \"value {} fits in {}\".format(a.dtype, dtype, a.max(), dtype))\n"
     ]
    },
    {
     "name": "stderr",
     "output_type": "stream",
     "text": [
      "C:\\Users\\Sid\\AppData\\Local\\conda\\conda\\envs\\image\\lib\\site-packages\\skimage\\io\\_io.py:140: UserWarning: ./processed_data/test\\8_100.jpg is a low contrast image\n",
      "  warn('%s is a low contrast image' % fname)\n",
      "C:\\Users\\Sid\\AppData\\Local\\conda\\conda\\envs\\image\\lib\\site-packages\\skimage\\util\\dtype.py:137: UserWarning: Possible sign loss when converting negative image of type int32 to positive image of type uint8.\n",
      "  .format(dtypeobj_in, dtypeobj_out))\n",
      "C:\\Users\\Sid\\AppData\\Local\\conda\\conda\\envs\\image\\lib\\site-packages\\skimage\\util\\dtype.py:190: UserWarning: Downcasting int32 to uint8 without scaling because max value 255 fits in uint8\n",
      "  \"value {} fits in {}\".format(a.dtype, dtype, a.max(), dtype))\n",
      "C:\\Users\\Sid\\AppData\\Local\\conda\\conda\\envs\\image\\lib\\site-packages\\skimage\\io\\_io.py:140: UserWarning: ./processed_data/test\\r_241_100.jpg is a low contrast image\n",
      "  warn('%s is a low contrast image' % fname)\n",
      "C:\\Users\\Sid\\AppData\\Local\\conda\\conda\\envs\\image\\lib\\site-packages\\skimage\\util\\dtype.py:137: UserWarning: Possible sign loss when converting negative image of type int32 to positive image of type uint8.\n",
      "  .format(dtypeobj_in, dtypeobj_out))\n",
      "C:\\Users\\Sid\\AppData\\Local\\conda\\conda\\envs\\image\\lib\\site-packages\\skimage\\util\\dtype.py:190: UserWarning: Downcasting int32 to uint8 without scaling because max value 255 fits in uint8\n",
      "  \"value {} fits in {}\".format(a.dtype, dtype, a.max(), dtype))\n",
      "C:\\Users\\Sid\\AppData\\Local\\conda\\conda\\envs\\image\\lib\\site-packages\\skimage\\io\\_io.py:140: UserWarning: ./processed_data/test\\r_322_100.jpg is a low contrast image\n",
      "  warn('%s is a low contrast image' % fname)\n",
      "C:\\Users\\Sid\\AppData\\Local\\conda\\conda\\envs\\image\\lib\\site-packages\\skimage\\util\\dtype.py:137: UserWarning: Possible sign loss when converting negative image of type int32 to positive image of type uint8.\n",
      "  .format(dtypeobj_in, dtypeobj_out))\n",
      "C:\\Users\\Sid\\AppData\\Local\\conda\\conda\\envs\\image\\lib\\site-packages\\skimage\\util\\dtype.py:190: UserWarning: Downcasting int32 to uint8 without scaling because max value 255 fits in uint8\n",
      "  \"value {} fits in {}\".format(a.dtype, dtype, a.max(), dtype))\n",
      "C:\\Users\\Sid\\AppData\\Local\\conda\\conda\\envs\\image\\lib\\site-packages\\skimage\\io\\_io.py:140: UserWarning: ./processed_data/test\\r_60_100.jpg is a low contrast image\n",
      "  warn('%s is a low contrast image' % fname)\n",
      "C:\\Users\\Sid\\AppData\\Local\\conda\\conda\\envs\\image\\lib\\site-packages\\skimage\\util\\dtype.py:137: UserWarning: Possible sign loss when converting negative image of type int32 to positive image of type uint8.\n",
      "  .format(dtypeobj_in, dtypeobj_out))\n",
      "C:\\Users\\Sid\\AppData\\Local\\conda\\conda\\envs\\image\\lib\\site-packages\\skimage\\util\\dtype.py:190: UserWarning: Downcasting int32 to uint8 without scaling because max value 255 fits in uint8\n",
      "  \"value {} fits in {}\".format(a.dtype, dtype, a.max(), dtype))\n",
      "C:\\Users\\Sid\\AppData\\Local\\conda\\conda\\envs\\image\\lib\\site-packages\\skimage\\io\\_io.py:140: UserWarning: ./processed_data/test\\r_69_100.jpg is a low contrast image\n",
      "  warn('%s is a low contrast image' % fname)\n",
      "C:\\Users\\Sid\\AppData\\Local\\conda\\conda\\envs\\image\\lib\\site-packages\\skimage\\util\\dtype.py:137: UserWarning: Possible sign loss when converting negative image of type int32 to positive image of type uint8.\n",
      "  .format(dtypeobj_in, dtypeobj_out))\n",
      "C:\\Users\\Sid\\AppData\\Local\\conda\\conda\\envs\\image\\lib\\site-packages\\skimage\\util\\dtype.py:190: UserWarning: Downcasting int32 to uint8 without scaling because max value 255 fits in uint8\n",
      "  \"value {} fits in {}\".format(a.dtype, dtype, a.max(), dtype))\n",
      "C:\\Users\\Sid\\AppData\\Local\\conda\\conda\\envs\\image\\lib\\site-packages\\skimage\\io\\_io.py:140: UserWarning: ./processed_data/test\\r_75_100.jpg is a low contrast image\n",
      "  warn('%s is a low contrast image' % fname)\n",
      "C:\\Users\\Sid\\AppData\\Local\\conda\\conda\\envs\\image\\lib\\site-packages\\skimage\\util\\dtype.py:137: UserWarning: Possible sign loss when converting negative image of type int32 to positive image of type uint8.\n",
      "  .format(dtypeobj_in, dtypeobj_out))\n",
      "C:\\Users\\Sid\\AppData\\Local\\conda\\conda\\envs\\image\\lib\\site-packages\\skimage\\util\\dtype.py:190: UserWarning: Downcasting int32 to uint8 without scaling because max value 255 fits in uint8\n",
      "  \"value {} fits in {}\".format(a.dtype, dtype, a.max(), dtype))\n",
      "C:\\Users\\Sid\\AppData\\Local\\conda\\conda\\envs\\image\\lib\\site-packages\\skimage\\io\\_io.py:140: UserWarning: ./processed_data/test\\r_91_100.jpg is a low contrast image\n",
      "  warn('%s is a low contrast image' % fname)\n",
      "C:\\Users\\Sid\\AppData\\Local\\conda\\conda\\envs\\image\\lib\\site-packages\\skimage\\util\\dtype.py:137: UserWarning: Possible sign loss when converting negative image of type int32 to positive image of type uint8.\n",
      "  .format(dtypeobj_in, dtypeobj_out))\n",
      "C:\\Users\\Sid\\AppData\\Local\\conda\\conda\\envs\\image\\lib\\site-packages\\skimage\\util\\dtype.py:190: UserWarning: Downcasting int32 to uint8 without scaling because max value 255 fits in uint8\n",
      "  \"value {} fits in {}\".format(a.dtype, dtype, a.max(), dtype))\n",
      "C:\\Users\\Sid\\AppData\\Local\\conda\\conda\\envs\\image\\lib\\site-packages\\skimage\\io\\_io.py:140: UserWarning: ./processed_data/test\\r_98_100.jpg is a low contrast image\n",
      "  warn('%s is a low contrast image' % fname)\n",
      "C:\\Users\\Sid\\AppData\\Local\\conda\\conda\\envs\\image\\lib\\site-packages\\skimage\\util\\dtype.py:137: UserWarning: Possible sign loss when converting negative image of type int32 to positive image of type uint8.\n",
      "  .format(dtypeobj_in, dtypeobj_out))\n",
      "C:\\Users\\Sid\\AppData\\Local\\conda\\conda\\envs\\image\\lib\\site-packages\\skimage\\util\\dtype.py:190: UserWarning: Downcasting int32 to uint8 without scaling because max value 255 fits in uint8\n",
      "  \"value {} fits in {}\".format(a.dtype, dtype, a.max(), dtype))\n"
     ]
    }
   ],
   "source": [
    "fruits=['Apple','Banana','Mango','Kiwi','Lime']\n",
    "fruuu=['test']\n",
    "\n",
    "call(fruuu)"
   ]
  },
  {
   "cell_type": "code",
   "execution_count": 8,
   "metadata": {},
   "outputs": [
    {
     "name": "stderr",
     "output_type": "stream",
     "text": [
      "C:\\Users\\Sid\\AppData\\Local\\conda\\conda\\envs\\image\\lib\\site-packages\\skimage\\io\\_io.py:140: UserWarning: ./test_data\\0_100.jpg is a low contrast image\n",
      "  warn('%s is a low contrast image' % fname)\n",
      "C:\\Users\\Sid\\AppData\\Local\\conda\\conda\\envs\\image\\lib\\site-packages\\skimage\\util\\dtype.py:137: UserWarning: Possible sign loss when converting negative image of type int32 to positive image of type uint8.\n",
      "  .format(dtypeobj_in, dtypeobj_out))\n",
      "C:\\Users\\Sid\\AppData\\Local\\conda\\conda\\envs\\image\\lib\\site-packages\\skimage\\util\\dtype.py:190: UserWarning: Downcasting int32 to uint8 without scaling because max value 255 fits in uint8\n",
      "  \"value {} fits in {}\".format(a.dtype, dtype, a.max(), dtype))\n",
      "C:\\Users\\Sid\\AppData\\Local\\conda\\conda\\envs\\image\\lib\\site-packages\\skimage\\io\\_io.py:140: UserWarning: ./test_data\\1.jpg is a low contrast image\n",
      "  warn('%s is a low contrast image' % fname)\n",
      "C:\\Users\\Sid\\AppData\\Local\\conda\\conda\\envs\\image\\lib\\site-packages\\skimage\\util\\dtype.py:137: UserWarning: Possible sign loss when converting negative image of type int32 to positive image of type uint8.\n",
      "  .format(dtypeobj_in, dtypeobj_out))\n",
      "C:\\Users\\Sid\\AppData\\Local\\conda\\conda\\envs\\image\\lib\\site-packages\\skimage\\util\\dtype.py:190: UserWarning: Downcasting int32 to uint8 without scaling because max value 255 fits in uint8\n",
      "  \"value {} fits in {}\".format(a.dtype, dtype, a.max(), dtype))\n",
      "C:\\Users\\Sid\\AppData\\Local\\conda\\conda\\envs\\image\\lib\\site-packages\\skimage\\io\\_io.py:140: UserWarning: ./test_data\\2.jpg is a low contrast image\n",
      "  warn('%s is a low contrast image' % fname)\n",
      "C:\\Users\\Sid\\AppData\\Local\\conda\\conda\\envs\\image\\lib\\site-packages\\skimage\\util\\dtype.py:137: UserWarning: Possible sign loss when converting negative image of type int32 to positive image of type uint8.\n",
      "  .format(dtypeobj_in, dtypeobj_out))\n",
      "C:\\Users\\Sid\\AppData\\Local\\conda\\conda\\envs\\image\\lib\\site-packages\\skimage\\util\\dtype.py:190: UserWarning: Downcasting int32 to uint8 without scaling because max value 255 fits in uint8\n",
      "  \"value {} fits in {}\".format(a.dtype, dtype, a.max(), dtype))\n",
      "C:\\Users\\Sid\\AppData\\Local\\conda\\conda\\envs\\image\\lib\\site-packages\\skimage\\io\\_io.py:140: UserWarning: ./test_data\\24_100.jpg is a low contrast image\n",
      "  warn('%s is a low contrast image' % fname)\n",
      "C:\\Users\\Sid\\AppData\\Local\\conda\\conda\\envs\\image\\lib\\site-packages\\skimage\\util\\dtype.py:137: UserWarning: Possible sign loss when converting negative image of type int32 to positive image of type uint8.\n",
      "  .format(dtypeobj_in, dtypeobj_out))\n",
      "C:\\Users\\Sid\\AppData\\Local\\conda\\conda\\envs\\image\\lib\\site-packages\\skimage\\util\\dtype.py:190: UserWarning: Downcasting int32 to uint8 without scaling because max value 255 fits in uint8\n",
      "  \"value {} fits in {}\".format(a.dtype, dtype, a.max(), dtype))\n",
      "C:\\Users\\Sid\\AppData\\Local\\conda\\conda\\envs\\image\\lib\\site-packages\\skimage\\io\\_io.py:140: UserWarning: ./test_data\\57_100.jpg is a low contrast image\n",
      "  warn('%s is a low contrast image' % fname)\n",
      "C:\\Users\\Sid\\AppData\\Local\\conda\\conda\\envs\\image\\lib\\site-packages\\skimage\\util\\dtype.py:137: UserWarning: Possible sign loss when converting negative image of type int32 to positive image of type uint8.\n",
      "  .format(dtypeobj_in, dtypeobj_out))\n",
      "C:\\Users\\Sid\\AppData\\Local\\conda\\conda\\envs\\image\\lib\\site-packages\\skimage\\util\\dtype.py:190: UserWarning: Downcasting int32 to uint8 without scaling because max value 255 fits in uint8\n",
      "  \"value {} fits in {}\".format(a.dtype, dtype, a.max(), dtype))\n",
      "C:\\Users\\Sid\\AppData\\Local\\conda\\conda\\envs\\image\\lib\\site-packages\\skimage\\io\\_io.py:140: UserWarning: ./test_data\\74_100.jpg is a low contrast image\n",
      "  warn('%s is a low contrast image' % fname)\n",
      "C:\\Users\\Sid\\AppData\\Local\\conda\\conda\\envs\\image\\lib\\site-packages\\skimage\\util\\dtype.py:137: UserWarning: Possible sign loss when converting negative image of type int32 to positive image of type uint8.\n",
      "  .format(dtypeobj_in, dtypeobj_out))\n",
      "C:\\Users\\Sid\\AppData\\Local\\conda\\conda\\envs\\image\\lib\\site-packages\\skimage\\util\\dtype.py:190: UserWarning: Downcasting int32 to uint8 without scaling because max value 255 fits in uint8\n",
      "  \"value {} fits in {}\".format(a.dtype, dtype, a.max(), dtype))\n",
      "C:\\Users\\Sid\\AppData\\Local\\conda\\conda\\envs\\image\\lib\\site-packages\\skimage\\io\\_io.py:140: UserWarning: ./test_data\\75_100.jpg is a low contrast image\n",
      "  warn('%s is a low contrast image' % fname)\n",
      "C:\\Users\\Sid\\AppData\\Local\\conda\\conda\\envs\\image\\lib\\site-packages\\skimage\\util\\dtype.py:137: UserWarning: Possible sign loss when converting negative image of type int32 to positive image of type uint8.\n",
      "  .format(dtypeobj_in, dtypeobj_out))\n",
      "C:\\Users\\Sid\\AppData\\Local\\conda\\conda\\envs\\image\\lib\\site-packages\\skimage\\util\\dtype.py:190: UserWarning: Downcasting int32 to uint8 without scaling because max value 255 fits in uint8\n",
      "  \"value {} fits in {}\".format(a.dtype, dtype, a.max(), dtype))\n",
      "C:\\Users\\Sid\\AppData\\Local\\conda\\conda\\envs\\image\\lib\\site-packages\\skimage\\io\\_io.py:140: UserWarning: ./test_data\\83_100.jpg is a low contrast image\n",
      "  warn('%s is a low contrast image' % fname)\n",
      "C:\\Users\\Sid\\AppData\\Local\\conda\\conda\\envs\\image\\lib\\site-packages\\skimage\\util\\dtype.py:137: UserWarning: Possible sign loss when converting negative image of type int32 to positive image of type uint8.\n",
      "  .format(dtypeobj_in, dtypeobj_out))\n",
      "C:\\Users\\Sid\\AppData\\Local\\conda\\conda\\envs\\image\\lib\\site-packages\\skimage\\util\\dtype.py:190: UserWarning: Downcasting int32 to uint8 without scaling because max value 255 fits in uint8\n",
      "  \"value {} fits in {}\".format(a.dtype, dtype, a.max(), dtype))\n",
      "C:\\Users\\Sid\\AppData\\Local\\conda\\conda\\envs\\image\\lib\\site-packages\\skimage\\io\\_io.py:140: UserWarning: ./test_data\\84_100.jpg is a low contrast image\n",
      "  warn('%s is a low contrast image' % fname)\n",
      "C:\\Users\\Sid\\AppData\\Local\\conda\\conda\\envs\\image\\lib\\site-packages\\skimage\\util\\dtype.py:137: UserWarning: Possible sign loss when converting negative image of type int32 to positive image of type uint8.\n",
      "  .format(dtypeobj_in, dtypeobj_out))\n",
      "C:\\Users\\Sid\\AppData\\Local\\conda\\conda\\envs\\image\\lib\\site-packages\\skimage\\util\\dtype.py:190: UserWarning: Downcasting int32 to uint8 without scaling because max value 255 fits in uint8\n",
      "  \"value {} fits in {}\".format(a.dtype, dtype, a.max(), dtype))\n",
      "C:\\Users\\Sid\\AppData\\Local\\conda\\conda\\envs\\image\\lib\\site-packages\\skimage\\io\\_io.py:140: UserWarning: ./test_data\\85_100.jpg is a low contrast image\n",
      "  warn('%s is a low contrast image' % fname)\n",
      "C:\\Users\\Sid\\AppData\\Local\\conda\\conda\\envs\\image\\lib\\site-packages\\skimage\\util\\dtype.py:137: UserWarning: Possible sign loss when converting negative image of type int32 to positive image of type uint8.\n",
      "  .format(dtypeobj_in, dtypeobj_out))\n",
      "C:\\Users\\Sid\\AppData\\Local\\conda\\conda\\envs\\image\\lib\\site-packages\\skimage\\util\\dtype.py:190: UserWarning: Downcasting int32 to uint8 without scaling because max value 255 fits in uint8\n",
      "  \"value {} fits in {}\".format(a.dtype, dtype, a.max(), dtype))\n",
      "C:\\Users\\Sid\\AppData\\Local\\conda\\conda\\envs\\image\\lib\\site-packages\\skimage\\io\\_io.py:140: UserWarning: ./test_data\\r_48_100.jpg is a low contrast image\n",
      "  warn('%s is a low contrast image' % fname)\n",
      "C:\\Users\\Sid\\AppData\\Local\\conda\\conda\\envs\\image\\lib\\site-packages\\skimage\\util\\dtype.py:137: UserWarning: Possible sign loss when converting negative image of type int32 to positive image of type uint8.\n",
      "  .format(dtypeobj_in, dtypeobj_out))\n",
      "C:\\Users\\Sid\\AppData\\Local\\conda\\conda\\envs\\image\\lib\\site-packages\\skimage\\util\\dtype.py:190: UserWarning: Downcasting int32 to uint8 without scaling because max value 255 fits in uint8\n",
      "  \"value {} fits in {}\".format(a.dtype, dtype, a.max(), dtype))\n",
      "C:\\Users\\Sid\\AppData\\Local\\conda\\conda\\envs\\image\\lib\\site-packages\\skimage\\io\\_io.py:140: UserWarning: ./test_data\\r_49_100.jpg is a low contrast image\n",
      "  warn('%s is a low contrast image' % fname)\n",
      "C:\\Users\\Sid\\AppData\\Local\\conda\\conda\\envs\\image\\lib\\site-packages\\skimage\\util\\dtype.py:137: UserWarning: Possible sign loss when converting negative image of type int32 to positive image of type uint8.\n",
      "  .format(dtypeobj_in, dtypeobj_out))\n",
      "C:\\Users\\Sid\\AppData\\Local\\conda\\conda\\envs\\image\\lib\\site-packages\\skimage\\util\\dtype.py:190: UserWarning: Downcasting int32 to uint8 without scaling because max value 255 fits in uint8\n",
      "  \"value {} fits in {}\".format(a.dtype, dtype, a.max(), dtype))\n"
     ]
    }
   ],
   "source": [
    "load_images('./data')"
   ]
  },
  {
   "cell_type": "code",
   "execution_count": 64,
   "metadata": {},
   "outputs": [],
   "source": [
    "x3=getfill('./data/1.jpg')"
   ]
  },
  {
   "cell_type": "code",
   "execution_count": 88,
   "metadata": {},
   "outputs": [
    {
     "data": {
      "text/plain": [
       "66.0"
      ]
     },
     "execution_count": 88,
     "metadata": {},
     "output_type": "execute_result"
    }
   ],
   "source": [
    "col=getcolor('./data/1.jpg')\n",
    "round(col[1])"
   ]
  },
  {
   "cell_type": "code",
   "execution_count": 42,
   "metadata": {},
   "outputs": [],
   "source": [
    "x1=io.imread('./data/1.jpg')\n",
    "x2=convert(x1)\n",
    "x2=change(x2)"
   ]
  },
  {
   "cell_type": "code",
   "execution_count": 15,
   "metadata": {},
   "outputs": [
    {
     "data": {
      "text/plain": [
       "<matplotlib.image.AxesImage at 0x20490aa1cf8>"
      ]
     },
     "execution_count": 15,
     "metadata": {},
     "output_type": "execute_result"
    },
    {
     "data": {
      "image/png": "[encoded data removed]",
      "text/plain": [
       "<Figure size 432x288 with 1 Axes>"
      ]
     },
     "metadata": {
      "needs_background": "light"
     },
     "output_type": "display_data"
    }
   ],
   "source": [
    "io.imshow(x2)"
   ]
  },
  {
   "cell_type": "code",
   "execution_count": 75,
   "metadata": {},
   "outputs": [],
   "source": [
    "x5=edge_grave(x1,x2,x3,col)\n"
   ]
  },
  {
   "cell_type": "code",
   "execution_count": 11,
   "metadata": {},
   "outputs": [],
   "source": [
    "#print(x3)"
   ]
  },
  {
   "cell_type": "code",
   "execution_count": 10,
   "metadata": {
    "scrolled": false
   },
   "outputs": [],
   "source": [
    "#io.imsave('./data/2.jpg',np.array(x5))\n",
    "#np.array(x5)"
   ]
  },
  {
   "cell_type": "code",
   "execution_count": null,
   "metadata": {},
   "outputs": [],
   "source": [
    " '''   images = []\n",
    "    path = os.path.join(base_path, '*.jpg')\n",
    "    for image_path in glob(path):\n",
    "        #image1 = preprocessing.image.load_img(image_path,target_size=(width, height))\n",
    "        #x1 = preprocessing.image.img_to_array(image1)\n",
    "        #image2 = preprocessing.image.load_img(image_path.replace(name,name+'_edge'),target_size=(width, height))\n",
    "        #x2 = preprocessing.image.img_to_array(image2)\n",
    "        #images.append([x1,x2])\n",
    "        x1=io.imread(image_path)\n",
    "        x2=convert(x1)\n",
    "        x2=change(x2)\n",
    "        x3=getfill(image_path)\n",
    "        col=getcolor(image_path)\n",
    "        #col=[ round(col[i]) for i in range(3) ]\n",
    "        x5=edge_grave(x1,x2,x3,col)\n",
    "        path1=image_path.replace('data','processed_data')\n",
    "        io.imsave(path1,np.array(x5))'''"
   ]
  },
  {
   "cell_type": "code",
   "execution_count": 76,
   "metadata": {},
   "outputs": [
    {
     "data": {
      "text/plain": [
       "<matplotlib.image.AxesImage at 0x1faa0604f98>"
      ]
     },
     "execution_count": 76,
     "metadata": {},
     "output_type": "execute_result"
    },
    {
     "data": {
      "image/png": "[encoded data removed]",
      "text/plain": [
       "<Figure size 432x288 with 1 Axes>"
      ]
     },
     "metadata": {
      "needs_background": "light"
     },
     "output_type": "display_data"
    }
   ],
   "source": [
    "x1=io.imread(\"./test.jpg\")\n",
    "io.imshow(x1)"
   ]
  },
  {
   "cell_type": "code",
   "execution_count": 94,
   "metadata": {},
   "outputs": [
    {
     "data": {
      "image/png": "[encoded data removed]",
      "text/plain": [
       "<Figure size 432x288 with 1 Axes>"
      ]
     },
     "metadata": {
      "needs_background": "light"
     },
     "output_type": "display_data"
    }
   ],
   "source": [
    "x1=io.imread(\"./test.jpg\")\n",
    "x2=convert(x1)\n",
    "x2=feature.canny(rgb2gray(x1), 0.8, 0.7, 0)\n",
    "io.imshow(x2)\n",
    "x2=change(x2)"
   ]
  },
  {
   "cell_type": "code",
   "execution_count": 95,
   "metadata": {},
   "outputs": [
    {
     "data": {
      "image/png": "[encoded data removed]",
      "text/plain": [
       "<Figure size 1008x576 with 2 Axes>"
      ]
     },
     "metadata": {
      "needs_background": "light"
     },
     "output_type": "display_data"
    }
   ],
   "source": [
    "col1=plot_image_info(\"./test.jpg\", 7 ,True)\n",
    "col=getcolor(\"./test.jpg\")"
   ]
  },
  {
   "cell_type": "code",
   "execution_count": 96,
   "metadata": {},
   "outputs": [],
   "source": [
    "#image = io.imread(path)\n",
    "gray = rgb2gray(x1)\n",
    "edges1=feature.canny(gray, 0.2, 0.75, 0.4)\n",
    "edges2=prepro(edges1,4,4,2)\n",
    "edges3=prepro(edges2,1,10,3,False)\n",
    "edges4=prepro(edges3,1,10,3,False)\n",
    "x3=fill2(edges4)"
   ]
  },
  {
   "cell_type": "code",
   "execution_count": 97,
   "metadata": {},
   "outputs": [
    {
     "data": {
      "text/plain": [
       "<matplotlib.image.AxesImage at 0x1faa02f4c88>"
      ]
     },
     "execution_count": 97,
     "metadata": {},
     "output_type": "execute_result"
    },
    {
     "data": {
      "image/png": "[encoded data removed]",
      "text/plain": [
       "<Figure size 432x288 with 1 Axes>"
      ]
     },
     "metadata": {
      "needs_background": "light"
     },
     "output_type": "display_data"
    }
   ],
   "source": [
    "io.imshow(edges1)"
   ]
  },
  {
   "cell_type": "code",
   "execution_count": 98,
   "metadata": {},
   "outputs": [
    {
     "data": {
      "text/plain": [
       "<matplotlib.image.AxesImage at 0x1faa1dab390>"
      ]
     },
     "execution_count": 98,
     "metadata": {},
     "output_type": "execute_result"
    },
    {
     "data": {
      "image/png": "[encoded data removed]",
      "text/plain": [
       "<Figure size 432x288 with 1 Axes>"
      ]
     },
     "metadata": {
      "needs_background": "light"
     },
     "output_type": "display_data"
    }
   ],
   "source": [
    "io.imshow(edges2)"
   ]
  },
  {
   "cell_type": "code",
   "execution_count": 99,
   "metadata": {},
   "outputs": [
    {
     "data": {
      "text/plain": [
       "<matplotlib.image.AxesImage at 0x1faa038a668>"
      ]
     },
     "execution_count": 99,
     "metadata": {},
     "output_type": "execute_result"
    },
    {
     "data": {
      "image/png": "[encoded data removed]",
      "text/plain": [
       "<Figure size 432x288 with 1 Axes>"
      ]
     },
     "metadata": {
      "needs_background": "light"
     },
     "output_type": "display_data"
    }
   ],
   "source": [
    "io.imshow(edges3)"
   ]
  },
  {
   "cell_type": "code",
   "execution_count": 100,
   "metadata": {},
   "outputs": [
    {
     "data": {
      "text/plain": [
       "<matplotlib.image.AxesImage at 0x1faa03df940>"
      ]
     },
     "execution_count": 100,
     "metadata": {},
     "output_type": "execute_result"
    },
    {
     "data": {
      "image/png": "[encoded data removed]",
      "text/plain": [
       "<Figure size 432x288 with 1 Axes>"
      ]
     },
     "metadata": {
      "needs_background": "light"
     },
     "output_type": "display_data"
    }
   ],
   "source": [
    "io.imshow(edges4)"
   ]
  },
  {
   "cell_type": "code",
   "execution_count": 101,
   "metadata": {},
   "outputs": [
    {
     "data": {
      "text/plain": [
       "<matplotlib.image.AxesImage at 0x1faa1b89ac8>"
      ]
     },
     "execution_count": 101,
     "metadata": {},
     "output_type": "execute_result"
    },
    {
     "data": {
      "image/png": "[encoded data removed]",
      "text/plain": [
       "<Figure size 432x288 with 1 Axes>"
      ]
     },
     "metadata": {
      "needs_background": "light"
     },
     "output_type": "display_data"
    }
   ],
   "source": [
    "io.imshow(x3)"
   ]
  },
  {
   "cell_type": "code",
   "execution_count": 102,
   "metadata": {},
   "outputs": [
    {
     "name": "stderr",
     "output_type": "stream",
     "text": [
      "C:\\Users\\Sid\\AppData\\Local\\conda\\conda\\envs\\image\\lib\\site-packages\\skimage\\io\\_plugins\\matplotlib_plugin.py:77: UserWarning: Low image data range; displaying image with stretched contrast.\n",
      "  warn(\"Low image data range; displaying image with \"\n"
     ]
    },
    {
     "data": {
      "text/plain": [
       "<matplotlib.image.AxesImage at 0x1faa1cfce48>"
      ]
     },
     "execution_count": 102,
     "metadata": {},
     "output_type": "execute_result"
    },
    {
     "data": {
      "image/png": "[encoded data removed]",
      "text/plain": [
       "<Figure size 432x288 with 2 Axes>"
      ]
     },
     "metadata": {
      "needs_background": "light"
     },
     "output_type": "display_data"
    }
   ],
   "source": [
    "io.imshow(np.array(edge_grave(x1,x2,x3,col)))"
   ]
  },
  {
   "cell_type": "code",
   "execution_count": 103,
   "metadata": {},
   "outputs": [
    {
     "name": "stderr",
     "output_type": "stream",
     "text": [
      "C:\\Users\\Sid\\AppData\\Local\\conda\\conda\\envs\\image\\lib\\site-packages\\skimage\\io\\_io.py:140: UserWarning: ./result.jpg is a low contrast image\n",
      "  warn('%s is a low contrast image' % fname)\n",
      "C:\\Users\\Sid\\AppData\\Local\\conda\\conda\\envs\\image\\lib\\site-packages\\skimage\\util\\dtype.py:137: UserWarning: Possible sign loss when converting negative image of type int32 to positive image of type uint8.\n",
      "  .format(dtypeobj_in, dtypeobj_out))\n",
      "C:\\Users\\Sid\\AppData\\Local\\conda\\conda\\envs\\image\\lib\\site-packages\\skimage\\util\\dtype.py:190: UserWarning: Downcasting int32 to uint8 without scaling because max value 255 fits in uint8\n",
      "  \"value {} fits in {}\".format(a.dtype, dtype, a.max(), dtype))\n"
     ]
    }
   ],
   "source": [
    "io.imsave(\"./result.jpg\",np.array(edge_grave(x1,x2,x3,col)))"
   ]
  },
  {
   "cell_type": "code",
   "execution_count": 104,
   "metadata": {},
   "outputs": [
    {
     "data": {
      "text/plain": [
       "<matplotlib.image.AxesImage at 0x1faa05f1dd8>"
      ]
     },
     "execution_count": 104,
     "metadata": {},
     "output_type": "execute_result"
    },
    {
     "data": {
      "image/png": "[encoded data removed]",
      "text/plain": [
       "<Figure size 432x288 with 1 Axes>"
      ]
     },
     "metadata": {
      "needs_background": "light"
     },
     "output_type": "display_data"
    }
   ],
   "source": [
    "io.imshow(io.imread(\"./result.jpg\"))"
   ]
  },
  {
   "cell_type": "code",
   "execution_count": null,
   "metadata": {},
   "outputs": [],
   "source": []
  }
 ],
 "metadata": {
  "kernelspec": {
   "display_name": "Python 3",
   "language": "python",
   "name": "python3"
  },
  "language_info": {
   "codemirror_mode": {
    "name": "ipython",
    "version": 3
   },
   "file_extension": ".py",
   "mimetype": "text/x-python",
   "name": "python",
   "nbconvert_exporter": "python",
   "pygments_lexer": "ipython3",
   "version": "3.6.6"
  }
 },
 "nbformat": 4,
 "nbformat_minor": 2
}
